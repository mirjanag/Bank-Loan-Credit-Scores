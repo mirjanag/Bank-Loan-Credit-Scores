{
 "cells": [
  {
   "cell_type": "markdown",
   "metadata": {},
   "source": [
    "## Analyzing borrowers’ risk of defaulting\n",
    "\n",
    "Your project is to prepare a report for a bank’s loan division. You’ll need to find out if a customer’s marital status and number of children has an impact on whether they will default on a loan. The bank already has some data on customers’ credit worthiness.\n",
    "\n",
    "Your report will be considered when building a **credit scoring** of a potential customer. A ** credit scoring ** is used to evaluate the ability of a potential borrower to repay their loan. \n",
    "\n",
    "**Plan of actions:**\n",
    "1. Examine the row data to identify potential issues\n",
    "2. Deal with the issues encountered\n",
    "3. Group the data\n",
    "4. Calculate probabilites"
   ]
  },
  {
   "cell_type": "markdown",
   "metadata": {},
   "source": [
    "### Open the data file and have a look at the general information"
   ]
  },
  {
   "cell_type": "code",
   "execution_count": 199,
   "metadata": {
    "scrolled": true
   },
   "outputs": [],
   "source": [
    "#importing the relevant modules and libraries\n",
    "import pandas as pd\n",
    "import numpy as np\n",
    "import matplotlib.pyplot as plt\n",
    "%matplotlib inline"
   ]
  },
  {
   "cell_type": "code",
   "execution_count": 200,
   "metadata": {},
   "outputs": [
    {
     "name": "stdout",
     "output_type": "stream",
     "text": [
      "<class 'pandas.core.frame.DataFrame'>\n",
      "RangeIndex: 21525 entries, 0 to 21524\n",
      "Data columns (total 12 columns):\n",
      "children            21525 non-null int64\n",
      "days_employed       19351 non-null float64\n",
      "dob_years           21525 non-null int64\n",
      "education           21525 non-null object\n",
      "education_id        21525 non-null int64\n",
      "family_status       21525 non-null object\n",
      "family_status_id    21525 non-null int64\n",
      "gender              21525 non-null object\n",
      "income_type         21525 non-null object\n",
      "debt                21525 non-null int64\n",
      "total_income        19351 non-null float64\n",
      "purpose             21525 non-null object\n",
      "dtypes: float64(2), int64(5), object(5)\n",
      "memory usage: 2.0+ MB\n"
     ]
    }
   ],
   "source": [
    "bank = pd.read_csv('/datasets/credit_scoring_eng.csv')\n",
    "bank.info() #get information about each columns"
   ]
  },
  {
   "cell_type": "code",
   "execution_count": 201,
   "metadata": {},
   "outputs": [
    {
     "data": {
      "text/html": [
       "<div>\n",
       "<style scoped>\n",
       "    .dataframe tbody tr th:only-of-type {\n",
       "        vertical-align: middle;\n",
       "    }\n",
       "\n",
       "    .dataframe tbody tr th {\n",
       "        vertical-align: top;\n",
       "    }\n",
       "\n",
       "    .dataframe thead th {\n",
       "        text-align: right;\n",
       "    }\n",
       "</style>\n",
       "<table border=\"1\" class=\"dataframe\">\n",
       "  <thead>\n",
       "    <tr style=\"text-align: right;\">\n",
       "      <th></th>\n",
       "      <th>children</th>\n",
       "      <th>days_employed</th>\n",
       "      <th>dob_years</th>\n",
       "      <th>education</th>\n",
       "      <th>education_id</th>\n",
       "      <th>family_status</th>\n",
       "      <th>family_status_id</th>\n",
       "      <th>gender</th>\n",
       "      <th>income_type</th>\n",
       "      <th>debt</th>\n",
       "      <th>total_income</th>\n",
       "      <th>purpose</th>\n",
       "    </tr>\n",
       "  </thead>\n",
       "  <tbody>\n",
       "    <tr>\n",
       "      <td>count</td>\n",
       "      <td>21525.000000</td>\n",
       "      <td>19351.000000</td>\n",
       "      <td>21525.000000</td>\n",
       "      <td>21525</td>\n",
       "      <td>21525.000000</td>\n",
       "      <td>21525</td>\n",
       "      <td>21525.000000</td>\n",
       "      <td>21525</td>\n",
       "      <td>21525</td>\n",
       "      <td>21525.000000</td>\n",
       "      <td>19351.000000</td>\n",
       "      <td>21525</td>\n",
       "    </tr>\n",
       "    <tr>\n",
       "      <td>unique</td>\n",
       "      <td>NaN</td>\n",
       "      <td>NaN</td>\n",
       "      <td>NaN</td>\n",
       "      <td>15</td>\n",
       "      <td>NaN</td>\n",
       "      <td>5</td>\n",
       "      <td>NaN</td>\n",
       "      <td>3</td>\n",
       "      <td>8</td>\n",
       "      <td>NaN</td>\n",
       "      <td>NaN</td>\n",
       "      <td>38</td>\n",
       "    </tr>\n",
       "    <tr>\n",
       "      <td>top</td>\n",
       "      <td>NaN</td>\n",
       "      <td>NaN</td>\n",
       "      <td>NaN</td>\n",
       "      <td>secondary education</td>\n",
       "      <td>NaN</td>\n",
       "      <td>married</td>\n",
       "      <td>NaN</td>\n",
       "      <td>F</td>\n",
       "      <td>employee</td>\n",
       "      <td>NaN</td>\n",
       "      <td>NaN</td>\n",
       "      <td>wedding ceremony</td>\n",
       "    </tr>\n",
       "    <tr>\n",
       "      <td>freq</td>\n",
       "      <td>NaN</td>\n",
       "      <td>NaN</td>\n",
       "      <td>NaN</td>\n",
       "      <td>13750</td>\n",
       "      <td>NaN</td>\n",
       "      <td>12380</td>\n",
       "      <td>NaN</td>\n",
       "      <td>14236</td>\n",
       "      <td>11119</td>\n",
       "      <td>NaN</td>\n",
       "      <td>NaN</td>\n",
       "      <td>797</td>\n",
       "    </tr>\n",
       "    <tr>\n",
       "      <td>mean</td>\n",
       "      <td>0.538908</td>\n",
       "      <td>63046.497661</td>\n",
       "      <td>43.293380</td>\n",
       "      <td>NaN</td>\n",
       "      <td>0.817236</td>\n",
       "      <td>NaN</td>\n",
       "      <td>0.972544</td>\n",
       "      <td>NaN</td>\n",
       "      <td>NaN</td>\n",
       "      <td>0.080883</td>\n",
       "      <td>26787.568355</td>\n",
       "      <td>NaN</td>\n",
       "    </tr>\n",
       "    <tr>\n",
       "      <td>std</td>\n",
       "      <td>1.381587</td>\n",
       "      <td>140827.311974</td>\n",
       "      <td>12.574584</td>\n",
       "      <td>NaN</td>\n",
       "      <td>0.548138</td>\n",
       "      <td>NaN</td>\n",
       "      <td>1.420324</td>\n",
       "      <td>NaN</td>\n",
       "      <td>NaN</td>\n",
       "      <td>0.272661</td>\n",
       "      <td>16475.450632</td>\n",
       "      <td>NaN</td>\n",
       "    </tr>\n",
       "    <tr>\n",
       "      <td>min</td>\n",
       "      <td>-1.000000</td>\n",
       "      <td>-18388.949901</td>\n",
       "      <td>0.000000</td>\n",
       "      <td>NaN</td>\n",
       "      <td>0.000000</td>\n",
       "      <td>NaN</td>\n",
       "      <td>0.000000</td>\n",
       "      <td>NaN</td>\n",
       "      <td>NaN</td>\n",
       "      <td>0.000000</td>\n",
       "      <td>3306.762000</td>\n",
       "      <td>NaN</td>\n",
       "    </tr>\n",
       "    <tr>\n",
       "      <td>25%</td>\n",
       "      <td>0.000000</td>\n",
       "      <td>-2747.423625</td>\n",
       "      <td>33.000000</td>\n",
       "      <td>NaN</td>\n",
       "      <td>1.000000</td>\n",
       "      <td>NaN</td>\n",
       "      <td>0.000000</td>\n",
       "      <td>NaN</td>\n",
       "      <td>NaN</td>\n",
       "      <td>0.000000</td>\n",
       "      <td>16488.504500</td>\n",
       "      <td>NaN</td>\n",
       "    </tr>\n",
       "    <tr>\n",
       "      <td>50%</td>\n",
       "      <td>0.000000</td>\n",
       "      <td>-1203.369529</td>\n",
       "      <td>42.000000</td>\n",
       "      <td>NaN</td>\n",
       "      <td>1.000000</td>\n",
       "      <td>NaN</td>\n",
       "      <td>0.000000</td>\n",
       "      <td>NaN</td>\n",
       "      <td>NaN</td>\n",
       "      <td>0.000000</td>\n",
       "      <td>23202.870000</td>\n",
       "      <td>NaN</td>\n",
       "    </tr>\n",
       "    <tr>\n",
       "      <td>75%</td>\n",
       "      <td>1.000000</td>\n",
       "      <td>-291.095954</td>\n",
       "      <td>53.000000</td>\n",
       "      <td>NaN</td>\n",
       "      <td>1.000000</td>\n",
       "      <td>NaN</td>\n",
       "      <td>1.000000</td>\n",
       "      <td>NaN</td>\n",
       "      <td>NaN</td>\n",
       "      <td>0.000000</td>\n",
       "      <td>32549.611000</td>\n",
       "      <td>NaN</td>\n",
       "    </tr>\n",
       "    <tr>\n",
       "      <td>max</td>\n",
       "      <td>20.000000</td>\n",
       "      <td>401755.400475</td>\n",
       "      <td>75.000000</td>\n",
       "      <td>NaN</td>\n",
       "      <td>4.000000</td>\n",
       "      <td>NaN</td>\n",
       "      <td>4.000000</td>\n",
       "      <td>NaN</td>\n",
       "      <td>NaN</td>\n",
       "      <td>1.000000</td>\n",
       "      <td>362496.645000</td>\n",
       "      <td>NaN</td>\n",
       "    </tr>\n",
       "  </tbody>\n",
       "</table>\n",
       "</div>"
      ],
      "text/plain": [
       "            children  days_employed     dob_years            education  \\\n",
       "count   21525.000000   19351.000000  21525.000000                21525   \n",
       "unique           NaN            NaN           NaN                   15   \n",
       "top              NaN            NaN           NaN  secondary education   \n",
       "freq             NaN            NaN           NaN                13750   \n",
       "mean        0.538908   63046.497661     43.293380                  NaN   \n",
       "std         1.381587  140827.311974     12.574584                  NaN   \n",
       "min        -1.000000  -18388.949901      0.000000                  NaN   \n",
       "25%         0.000000   -2747.423625     33.000000                  NaN   \n",
       "50%         0.000000   -1203.369529     42.000000                  NaN   \n",
       "75%         1.000000    -291.095954     53.000000                  NaN   \n",
       "max        20.000000  401755.400475     75.000000                  NaN   \n",
       "\n",
       "        education_id family_status  family_status_id gender income_type  \\\n",
       "count   21525.000000         21525      21525.000000  21525       21525   \n",
       "unique           NaN             5               NaN      3           8   \n",
       "top              NaN       married               NaN      F    employee   \n",
       "freq             NaN         12380               NaN  14236       11119   \n",
       "mean        0.817236           NaN          0.972544    NaN         NaN   \n",
       "std         0.548138           NaN          1.420324    NaN         NaN   \n",
       "min         0.000000           NaN          0.000000    NaN         NaN   \n",
       "25%         1.000000           NaN          0.000000    NaN         NaN   \n",
       "50%         1.000000           NaN          0.000000    NaN         NaN   \n",
       "75%         1.000000           NaN          1.000000    NaN         NaN   \n",
       "max         4.000000           NaN          4.000000    NaN         NaN   \n",
       "\n",
       "                debt   total_income           purpose  \n",
       "count   21525.000000   19351.000000             21525  \n",
       "unique           NaN            NaN                38  \n",
       "top              NaN            NaN  wedding ceremony  \n",
       "freq             NaN            NaN               797  \n",
       "mean        0.080883   26787.568355               NaN  \n",
       "std         0.272661   16475.450632               NaN  \n",
       "min         0.000000    3306.762000               NaN  \n",
       "25%         0.000000   16488.504500               NaN  \n",
       "50%         0.000000   23202.870000               NaN  \n",
       "75%         0.000000   32549.611000               NaN  \n",
       "max         1.000000  362496.645000               NaN  "
      ]
     },
     "execution_count": 201,
     "metadata": {},
     "output_type": "execute_result"
    }
   ],
   "source": [
    "bank.describe(include='all')#get some statistic summary on each column of quantitative variables"
   ]
  },
  {
   "cell_type": "markdown",
   "metadata": {},
   "source": [
    "#### Conclusion"
   ]
  },
  {
   "cell_type": "markdown",
   "metadata": {},
   "source": [
    "Using the method .info() we got the concise summary of the dataframe `bank`. As we can see in the output, the summary tells us that we have a dataset with 12 columns, and 21525 rows (or non-null values). We can also see their data type. Our dataframe has mix of data, including integers, floats, and objects or with other words some of our data are numbers - they are quantitative variables and some consist of words - thus they are categorical variables. At first glance, we can see that two variables (`days_employed` and `total_income`) have less(19351) than the total number of obseravtions (21525). We will need to investigate this further and make decision what to do with those missing data. \n",
    "\n",
    "Using the method .decribe(), we got some basic statistics for our dataset. Something that appears odd is that in `days_employed` we have some negative values which can not be true. Also, the column `education` has 15 uniques values, while the `purpose` variable has 38 purposes stated.We will need to modify the data in those columns and orginize the different categories in smaller number of categories. "
   ]
  },
  {
   "cell_type": "markdown",
   "metadata": {},
   "source": [
    "### Data preprocessing"
   ]
  },
  {
   "cell_type": "markdown",
   "metadata": {},
   "source": [
    "#### Processing missing values"
   ]
  },
  {
   "cell_type": "code",
   "execution_count": 202,
   "metadata": {},
   "outputs": [
    {
     "name": "stdout",
     "output_type": "stream",
     "text": [
      "children             0.0\n",
      "days_employed       10.1\n",
      "dob_years            0.0\n",
      "education            0.0\n",
      "education_id         0.0\n",
      "family_status        0.0\n",
      "family_status_id     0.0\n",
      "gender               0.0\n",
      "income_type          0.0\n",
      "debt                 0.0\n",
      "total_income        10.1\n",
      "purpose              0.0\n",
      "dtype: float64\n"
     ]
    }
   ],
   "source": [
    "#checking for missing values \n",
    "missing = bank.isnull().sum()*100/len(bank)\n",
    "print(round(missing,2))"
   ]
  },
  {
   "cell_type": "markdown",
   "metadata": {},
   "source": [
    "There is 10% of missing data from the columns `days_employed` and `total_income`. We can see if we can fill this values, as they are not too big proprotion, it should not affect the results to a large extent. "
   ]
  },
  {
   "cell_type": "code",
   "execution_count": 203,
   "metadata": {},
   "outputs": [
    {
     "data": {
      "text/plain": [
       "array([-8437.67302776, -4024.80375385, -5623.42261023, ...,\n",
       "       -2113.3468877 , -3112.4817052 , -1984.50758853])"
      ]
     },
     "execution_count": 203,
     "metadata": {},
     "output_type": "execute_result"
    }
   ],
   "source": [
    "bank['days_employed'].unique() #again results show negative numbers, which is uncorrect, \n",
    "#we can replace these values with positive values. \n",
    "#However for the purpose of the required tasks we will not use this variable"
   ]
  },
  {
   "cell_type": "code",
   "execution_count": 204,
   "metadata": {},
   "outputs": [
    {
     "name": "stdout",
     "output_type": "stream",
     "text": [
      "63046.49766147338\n",
      "-1203.369528770489\n"
     ]
    },
    {
     "data": {
      "image/png": "[encoded data removed]",
      "text/plain": [
       "<Figure size 432x288 with 1 Axes>"
      ]
     },
     "metadata": {
      "needs_background": "light"
     },
     "output_type": "display_data"
    }
   ],
   "source": [
    "#creating a histogram to see the distrubution of the values in this variable\n",
    "bank[\"days_employed\"].hist(bins = 100) #the values are either negative, either too high\n",
    "print(bank['days_employed'].mean())\n",
    "print(bank['days_employed'].median()) #since there is a big difference between the mean and the median, we assume that there are outliers, so we will use the mean to fill in the missing data"
   ]
  },
  {
   "cell_type": "code",
   "execution_count": 205,
   "metadata": {},
   "outputs": [
    {
     "data": {
      "text/plain": [
       "<matplotlib.axes._subplots.AxesSubplot at 0x7f6bfdeaa290>"
      ]
     },
     "execution_count": 205,
     "metadata": {},
     "output_type": "execute_result"
    },
    {
     "data": {
      "image/png": "[encoded data removed]",
      "text/plain": [
       "<Figure size 432x288 with 1 Axes>"
      ]
     },
     "metadata": {
      "needs_background": "light"
     },
     "output_type": "display_data"
    }
   ],
   "source": [
    "bank.loc[bank['days_employed'] > 0, 'days_employed'] = np.nan #replacing the very high values withn NaN\n",
    "bank['days_employed'] = bank['days_employed'].abs() #we remove the negative sign from the negative values\n",
    "bank['days_employed'].fillna(bank['days_employed'].mean(),inplace=True) #replacing the NaN with mean value, Changing the orgininal dataset\n",
    "#checking how the distribution looks like after the changed we made\n",
    "bank.days_employed.hist() #we are getting something that looks a more 'normal', altough the distribution is skewed "
   ]
  },
  {
   "cell_type": "code",
   "execution_count": 206,
   "metadata": {},
   "outputs": [],
   "source": [
    "#checking for the different information contained in a particular variable/column\n",
    "bank['children'].unique() #results show that there is a negative number which is obvisoulsy a mistake because you can't have -1 children (it can be no children at all, but not -). Also there seem ot be an outlier, 20 children sounds a lot!\n",
    "#We assume that 20 kids is a mistake, and someone accidentaly typed an extra 0. Will convert that to 2\n",
    "bank.loc[bank['children'] == 20, 'children'] = 2\n",
    "#We also assume that for -1 kid someone accidentaly typed an -sign. Will convert to 1 kid.\n",
    "bank.loc[bank['children'] == -1, 'children'] = 1"
   ]
  },
  {
   "cell_type": "code",
   "execution_count": 207,
   "metadata": {},
   "outputs": [
    {
     "name": "stdout",
     "output_type": "stream",
     "text": [
      "26787.56835465867\n",
      "23202.87\n"
     ]
    },
    {
     "data": {
      "image/png": "[encoded data removed]",
      "text/plain": [
       "<Figure size 432x288 with 1 Axes>"
      ]
     },
     "metadata": {
      "needs_background": "light"
     },
     "output_type": "display_data"
    }
   ],
   "source": [
    "#graphically presenting the distrubtion of the income of the clients\n",
    "bank.total_income.hist() \n",
    "print(bank['total_income'].mean())\n",
    "print(bank['total_income'].median())\n",
    "\n",
    "#we have skewed distribution, is it better to fill with median values "
   ]
  },
  {
   "cell_type": "code",
   "execution_count": 208,
   "metadata": {},
   "outputs": [],
   "source": [
    "#filling the missing data in the income variable with median value combination of two variables\n",
    "bank['total_income'] = bank['total_income'].fillna(bank.groupby('income_type')['total_income'].transform('median'))\n",
    "#filling the rest of missing data with median value \n",
    "bank_nomissing=bank.fillna(bank.median())"
   ]
  },
  {
   "cell_type": "markdown",
   "metadata": {},
   "source": [
    "#### Conclusion"
   ]
  },
  {
   "cell_type": "markdown",
   "metadata": {},
   "source": [
    "There are two columns with missing values, `days_employed` and `total_income` (both are numerical variables) each missing 2174 out of 21525 rows. The siginifcance ratio between 5% - 10% is considered not to be too much so therefore it was decided to fill them in (as the ratio is not big, the inserted values should not affect the analysis later on) and working with the dataset that has no missing values. After looking at mean and median, it was decided to use the median value, as there seem to be outliers dragging the mean upwards for the `days_employed` variable. The difference for the `total_income` is less, however still different, so we used the median to fill the missing values in the both columns. "
   ]
  },
  {
   "cell_type": "markdown",
   "metadata": {},
   "source": [
    "### Data type replacement"
   ]
  },
  {
   "cell_type": "code",
   "execution_count": 209,
   "metadata": {},
   "outputs": [],
   "source": [
    "#Turning floats values into integers for the columns 'days_employed' and 'total_income'\n",
    "bank_nomissing['days_employed'] = pd.to_numeric(bank_nomissing['days_employed'], errors='coerce').astype(int)\n",
    "bank_nomissing['total_income'] = pd.to_numeric(bank_nomissing['total_income'], errors='coerce').astype(int)"
   ]
  },
  {
   "cell_type": "markdown",
   "metadata": {},
   "source": [
    "#### Conclusion"
   ]
  },
  {
   "cell_type": "markdown",
   "metadata": {},
   "source": [
    "The dataset had two columns with float values, which are not always the most appropriate type for doing some calculations and they take up more memory space. Therefore, using to_numeric() method, we replaced the float data type with the integer type. "
   ]
  },
  {
   "cell_type": "markdown",
   "metadata": {},
   "source": [
    "### Processing duplicates"
   ]
  },
  {
   "cell_type": "code",
   "execution_count": 210,
   "metadata": {},
   "outputs": [
    {
     "data": {
      "text/plain": [
       "array([\"bachelor's degree\", 'secondary education', 'Secondary Education',\n",
       "       'SECONDARY EDUCATION', \"BACHELOR'S DEGREE\", 'some college',\n",
       "       'primary education', \"Bachelor's Degree\", 'SOME COLLEGE',\n",
       "       'Some College', 'PRIMARY EDUCATION', 'Primary Education',\n",
       "       'Graduate Degree', 'GRADUATE DEGREE', 'graduate degree'],\n",
       "      dtype=object)"
      ]
     },
     "execution_count": 210,
     "metadata": {},
     "output_type": "execute_result"
    }
   ],
   "source": [
    "bank['education'].unique() #this column needs some work. \n",
    "#There are different names used to decsribe the same category, which will create issues later on when grouping, categorizing and aggregating the data"
   ]
  },
  {
   "cell_type": "code",
   "execution_count": 211,
   "metadata": {},
   "outputs": [],
   "source": [
    "#Looking for Duplicates by Hand with Case Sensitivity\n",
    "#previoulsy we saw that there were not unifed apprach of how the data was recorded in the education column so we convereted all the entries in lower case\n",
    "bank_nomissing['education'] = bank_nomissing['education'].str.lower() "
   ]
  },
  {
   "cell_type": "code",
   "execution_count": 212,
   "metadata": {},
   "outputs": [
    {
     "data": {
      "text/plain": [
       "array(['purchase of the house', 'car purchase', 'supplementary education',\n",
       "       'to have a wedding', 'housing transactions', 'education',\n",
       "       'having a wedding', 'purchase of the house for my family',\n",
       "       'buy real estate', 'buy commercial real estate',\n",
       "       'buy residential real estate', 'construction of own property',\n",
       "       'property', 'building a property', 'buying a second-hand car',\n",
       "       'buying my own car', 'transactions with commercial real estate',\n",
       "       'building a real estate', 'housing',\n",
       "       'transactions with my real estate', 'cars', 'to become educated',\n",
       "       'second-hand car purchase', 'getting an education', 'car',\n",
       "       'wedding ceremony', 'to get a supplementary education',\n",
       "       'purchase of my own house', 'real estate transactions',\n",
       "       'getting higher education', 'to own a car', 'purchase of a car',\n",
       "       'profile education', 'university education',\n",
       "       'buying property for renting out', 'to buy a car',\n",
       "       'housing renovation', 'going to university'], dtype=object)"
      ]
     },
     "execution_count": 212,
     "metadata": {},
     "output_type": "execute_result"
    }
   ],
   "source": [
    "bank['purpose'].unique()#it looks like there are different wording used for the same purpose \n",
    "#for example 'to become educated' with 'profile education', 'to get a supplementary education'"
   ]
  },
  {
   "cell_type": "code",
   "execution_count": 213,
   "metadata": {},
   "outputs": [],
   "source": [
    "# importing modules for stemming\n",
    "from nltk.stem import SnowballStemmer \n",
    "english_stemmer = SnowballStemmer('english') \n",
    "from nltk.stem import WordNetLemmatizer\n",
    "wordnet_lemma = WordNetLemmatizer()\n",
    "from nltk.tokenize import word_tokenize"
   ]
  },
  {
   "cell_type": "code",
   "execution_count": 214,
   "metadata": {},
   "outputs": [
    {
     "name": "stdout",
     "output_type": "stream",
     "text": [
      "['purchase', 'of', 'the', 'house', 'car', 'supplementary', 'education', 'to', 'have', 'a', 'wedding', 'housing', 'transactions', 'having', 'for', 'my', 'family', 'buy', 'real', 'estate', 'commercial', 'residential', 'construction', 'own', 'property', 'building', 'buying', 'second-hand', 'with', 'cars', 'become', 'educated', 'getting', 'an', 'ceremony', 'get', 'higher', 'profile', 'university', 'renting', 'out', 'renovation', 'going']\n"
     ]
    }
   ],
   "source": [
    "#creating a list with all unique entries from the purpose variable, and spliting them into single word\n",
    "unique_purpose = list(bank_nomissing['purpose'].unique())\n",
    "words = []\n",
    "for sentence in unique_purpose:\n",
    "    text_list=sentence.split()\n",
    "    for x in text_list:\n",
    "        if x not in words:\n",
    "            words.append(x)\n",
    "print(words)"
   ]
  },
  {
   "cell_type": "code",
   "execution_count": 215,
   "metadata": {},
   "outputs": [
    {
     "name": "stdout",
     "output_type": "stream",
     "text": [
      "['purchas', 'of', 'the', 'hous', 'car', 'supplementari', 'educ', 'to', 'have', 'a', 'wed', 'hous', 'transact', 'have', 'for', 'my', 'famili', 'buy', 'real', 'estat', 'commerci', 'residenti', 'construct', 'own', 'properti', 'build', 'buy', 'second-hand', 'with', 'car', 'becom', 'educ', 'get', 'an', 'ceremoni', 'get', 'higher', 'profil', 'univers', 'rent', 'out', 'renov', 'go']\n"
     ]
    }
   ],
   "source": [
    "#exctracting the stem of each word\n",
    "stems = []\n",
    "for s in words:\n",
    "    stem_each = english_stemmer.stem(s)\n",
    "    stems.append(stem_each)\n",
    "print(stems)"
   ]
  },
  {
   "cell_type": "code",
   "execution_count": 216,
   "metadata": {},
   "outputs": [
    {
     "data": {
      "text/plain": [
       "21525"
      ]
     },
     "metadata": {},
     "output_type": "display_data"
    },
    {
     "data": {
      "text/plain": [
       "array(['house', 'car', 'education', 'ceremony', 'other'], dtype=object)"
      ]
     },
     "metadata": {},
     "output_type": "display_data"
    }
   ],
   "source": [
    "unique_stem_list = ['hous', 'car', 'educ', 'wed', 'estat', 'properti', 'ceremoni', 'univers','residenti']\n",
    "credit_purpose_list = []\n",
    "purpose_list = bank_nomissing.loc[:, 'purpose']\n",
    "\n",
    "for rw_text in purpose_list:\n",
    "    if 'hous' in rw_text or 'rent' in rw_text or 'estat' in rw_text or 'residenti' in rw_text or 'properti' in rw_text:\n",
    "        credit_purpose_list.append('house')   \n",
    "    elif 'car' in rw_text:\n",
    "        credit_purpose_list.append('car')\n",
    "        continue\n",
    "    elif 'edu' in rw_text or 'univers' in rw_text:\n",
    "        credit_purpose_list.append('education')\n",
    "        continue\n",
    "    elif 'wed' in rw_text or 'ceremoni' in rw_text:\n",
    "        credit_purpose_list.append('ceremony')\n",
    "    else:\n",
    "        credit_purpose_list.append('other')\n",
    "display(len(credit_purpose_list))\n",
    "bank_nomissing['credit_type'] = credit_purpose_list\n",
    "display(bank_nomissing['credit_type'].unique())"
   ]
  },
  {
   "cell_type": "code",
   "execution_count": 217,
   "metadata": {},
   "outputs": [
    {
     "data": {
      "text/plain": [
       "71"
      ]
     },
     "execution_count": 217,
     "metadata": {},
     "output_type": "execute_result"
    }
   ],
   "source": [
    "#checking the duplicated in our data based on all the columns\n",
    "bank_nomissing.duplicated().sum() "
   ]
  },
  {
   "cell_type": "code",
   "execution_count": 218,
   "metadata": {},
   "outputs": [],
   "source": [
    "#dropping the duplicates and keeping that new format to our dataset\n",
    "bank_nomissing.drop_duplicates(subset=None, keep='first', inplace=True)"
   ]
  },
  {
   "cell_type": "markdown",
   "metadata": {},
   "source": [
    "#### Conclusion"
   ]
  },
  {
   "cell_type": "markdown",
   "metadata": {},
   "source": [
    "We identified 71 rows that were duplicated in the dataset, so we dropped them. However, before this, we changed the entries in the 'education' column to lower case so the program can easily check whether they are duplicates or no. We also used stemming to create a new column in the dataset which uses ony one word to describe the purpose of the loan. "
   ]
  },
  {
   "cell_type": "markdown",
   "metadata": {},
   "source": [
    "### CATEGORIZING DATA"
   ]
  },
  {
   "cell_type": "code",
   "execution_count": 219,
   "metadata": {},
   "outputs": [],
   "source": [
    "#categorizing the data by the number of children\n",
    "def has_children(children):  \n",
    "    if children == 0:\n",
    "        return 'No'\n",
    "    return 'Yes' "
   ]
  },
  {
   "cell_type": "code",
   "execution_count": 220,
   "metadata": {},
   "outputs": [
    {
     "data": {
      "text/plain": [
       "'Yes'"
      ]
     },
     "execution_count": 220,
     "metadata": {},
     "output_type": "execute_result"
    }
   ],
   "source": [
    "#testing whether the function works\n",
    "has_children(4)"
   ]
  },
  {
   "cell_type": "code",
   "execution_count": 221,
   "metadata": {},
   "outputs": [],
   "source": [
    "#creating a separate column for children categories and record the values the function returns in its cells.\n",
    "bank_nomissing['having_children'] = bank_nomissing['children'].apply(has_children)"
   ]
  },
  {
   "cell_type": "code",
   "execution_count": 222,
   "metadata": {},
   "outputs": [
    {
     "data": {
      "text/plain": [
       "0.25    17219.5\n",
       "0.50    22815.0\n",
       "0.75    31331.0\n",
       "Name: total_income, dtype: float64"
      ]
     },
     "execution_count": 222,
     "metadata": {},
     "output_type": "execute_result"
    }
   ],
   "source": [
    "#checking the quantiles for the income variable, so we can use this info to split the income data into categories\n",
    "bank_nomissing.total_income.quantile([.25, .5,.75])"
   ]
  },
  {
   "cell_type": "code",
   "execution_count": 223,
   "metadata": {},
   "outputs": [],
   "source": [
    "#creating income_categories so we can compare the probability for each group (rather than each unique income level)\n",
    "bank_nomissing['income_category'] = pd.cut(bank_nomissing[\"total_income\"], bins=[0,17219.5, 22815.0, 31331.0, np.inf])"
   ]
  },
  {
   "cell_type": "markdown",
   "metadata": {},
   "source": [
    "#### Conclusion"
   ]
  },
  {
   "cell_type": "markdown",
   "metadata": {},
   "source": [
    "In order to answer the main questions, we created categories for the variables of interest, namely `children` and `total_income`. The other variables of interest are already grouped in categories, as they are categorical variables such as the newly created `credit_type`, and the existing column `marital_status`. "
   ]
  },
  {
   "cell_type": "markdown",
   "metadata": {},
   "source": [
    "### Check which category is more likely to repay the loan"
   ]
  },
  {
   "cell_type": "markdown",
   "metadata": {},
   "source": [
    "- Is there a relation between having kids and repaying a loan on time?"
   ]
  },
  {
   "cell_type": "code",
   "execution_count": 224,
   "metadata": {},
   "outputs": [
    {
     "data": {
      "text/plain": [
       "having_children\n",
       "No     0.075438\n",
       "Yes    0.092082\n",
       "dtype: float64"
      ]
     },
     "execution_count": 224,
     "metadata": {},
     "output_type": "execute_result"
    }
   ],
   "source": [
    "#finding the mean values for each group\n",
    "bank_nomissing.groupby('having_children').apply(lambda x: x[\"debt\"].mean())"
   ]
  },
  {
   "cell_type": "code",
   "execution_count": 225,
   "metadata": {},
   "outputs": [
    {
     "data": {
      "text/html": [
       "<div>\n",
       "<style scoped>\n",
       "    .dataframe tbody tr th:only-of-type {\n",
       "        vertical-align: middle;\n",
       "    }\n",
       "\n",
       "    .dataframe tbody tr th {\n",
       "        vertical-align: top;\n",
       "    }\n",
       "\n",
       "    .dataframe thead tr th {\n",
       "        text-align: left;\n",
       "    }\n",
       "</style>\n",
       "<table border=\"1\" class=\"dataframe\">\n",
       "  <thead>\n",
       "    <tr>\n",
       "      <th></th>\n",
       "      <th>having_children</th>\n",
       "      <th>mean</th>\n",
       "    </tr>\n",
       "    <tr>\n",
       "      <th></th>\n",
       "      <th></th>\n",
       "      <th>debt</th>\n",
       "    </tr>\n",
       "  </thead>\n",
       "  <tbody>\n",
       "    <tr>\n",
       "      <td>0</td>\n",
       "      <td>No</td>\n",
       "      <td>0.075438</td>\n",
       "    </tr>\n",
       "    <tr>\n",
       "      <td>1</td>\n",
       "      <td>Yes</td>\n",
       "      <td>0.092082</td>\n",
       "    </tr>\n",
       "  </tbody>\n",
       "</table>\n",
       "</div>"
      ],
      "text/plain": [
       "  having_children      mean\n",
       "                       debt\n",
       "0              No  0.075438\n",
       "1             Yes  0.092082"
      ]
     },
     "execution_count": 225,
     "metadata": {},
     "output_type": "execute_result"
    }
   ],
   "source": [
    "#finding the mean values for each group by creating a pivot table\n",
    "credit_scoring_pivot = pd.pivot_table(bank_nomissing, \n",
    "                                      index=['having_children'],  \n",
    "                                      values=[\"debt\"], aggfunc=[np.mean]).reset_index()\n",
    "credit_scoring_pivot"
   ]
  },
  {
   "cell_type": "code",
   "execution_count": 226,
   "metadata": {},
   "outputs": [
    {
     "name": "stdout",
     "output_type": "stream",
     "text": [
      "                       debt\n",
      "having_children debt       \n",
      "No              0     13028\n",
      "                1      1063\n",
      "Yes             0      6685\n",
      "                1       678\n"
     ]
    }
   ],
   "source": [
    "#extracting only the data we need\n",
    "kids_dic = bank_nomissing.groupby(['having_children'])['debt']\n",
    "value_cou_kids = pd.DataFrame(kids_dic.value_counts())\n",
    "print(value_cou_kids)"
   ]
  },
  {
   "cell_type": "code",
   "execution_count": 227,
   "metadata": {},
   "outputs": [
    {
     "name": "stdout",
     "output_type": "stream",
     "text": [
      "The probaility of someone who have no kids, to have no dept is 92.49%\n"
     ]
    }
   ],
   "source": [
    "debt_nokids_probability = 13086 / (1063 + 13086)\n",
    "print(\"The probaility of someone who have no kids, to have no dept is {:.2%}\".format(debt_nokids_probability))"
   ]
  },
  {
   "cell_type": "code",
   "execution_count": 228,
   "metadata": {},
   "outputs": [
    {
     "name": "stdout",
     "output_type": "stream",
     "text": [
      "The probaility of someone who have kids, to have no dept is 90.81%\n"
     ]
    }
   ],
   "source": [
    "debt_kids_probability = 6698 / (678 + 6698)\n",
    "print(\"The probaility of someone who have kids, to have no dept is {:.2%}\".format(debt_kids_probability))"
   ]
  },
  {
   "cell_type": "markdown",
   "metadata": {},
   "source": [
    "#### Conclusion"
   ]
  },
  {
   "cell_type": "markdown",
   "metadata": {},
   "source": [
    "The analysis showed that there is no large difference between people with kids and people without kids, in the probability of having paid their loan. However, customers with kids are by about 2% more likely to pay they loan."
   ]
  },
  {
   "cell_type": "markdown",
   "metadata": {},
   "source": [
    "- Is there a relation between marital status and repaying a loan on time?"
   ]
  },
  {
   "cell_type": "code",
   "execution_count": 229,
   "metadata": {},
   "outputs": [
    {
     "data": {
      "text/plain": [
       "family_status\n",
       "civil partnership    0.093471\n",
       "divorced             0.071130\n",
       "married              0.075452\n",
       "unmarried            0.097509\n",
       "widow / widower      0.065693\n",
       "dtype: float64"
      ]
     },
     "execution_count": 229,
     "metadata": {},
     "output_type": "execute_result"
    }
   ],
   "source": [
    "#finding the mean values\n",
    "bank_nomissing.groupby('family_status').apply(lambda x: x[\"debt\"].mean())"
   ]
  },
  {
   "cell_type": "code",
   "execution_count": 231,
   "metadata": {},
   "outputs": [
    {
     "name": "stdout",
     "output_type": "stream",
     "text": [
      "                         debt\n",
      "family_status     debt       \n",
      "civil partnership 0      3763\n",
      "                  1       388\n",
      "divorced          0      1110\n",
      "                  1        85\n",
      "married           0     11408\n",
      "                  1       931\n",
      "unmarried         0      2536\n",
      "                  1       274\n",
      "widow / widower   0       896\n",
      "                  1        63\n"
     ]
    }
   ],
   "source": [
    "#extracting only the data we need\n",
    "marrital_dic = bank_nomissing.groupby(['family_status'])['debt']\n",
    "value_cou_marr = pd.DataFrame(marrital_dic.value_counts())\n",
    "print(value_cou_marr)"
   ]
  },
  {
   "cell_type": "code",
   "execution_count": 232,
   "metadata": {},
   "outputs": [
    {
     "name": "stdout",
     "output_type": "stream",
     "text": [
      "The probaility of someone who is in civil partnership to have no dept is 90.71%\n"
     ]
    }
   ],
   "source": [
    "probability_nodebt_partnership = 3789 / (3789 + 388)\n",
    "print('The probaility of someone who is in civil partnership to have no dept is {:.2%}'.format(probability_nodebt_partnership))"
   ]
  },
  {
   "cell_type": "code",
   "execution_count": 233,
   "metadata": {},
   "outputs": [
    {
     "name": "stdout",
     "output_type": "stream",
     "text": [
      "The probaility of someone who is divorced, to have no dept is 92.89%\n"
     ]
    }
   ],
   "source": [
    "probability_nodebt_divorced = 1110 / (1110 + 85)\n",
    "print('The probaility of someone who is divorced, to have no dept is {:.2%}'.format(probability_nodebt_divorced))"
   ]
  },
  {
   "cell_type": "code",
   "execution_count": 234,
   "metadata": {},
   "outputs": [
    {
     "name": "stdout",
     "output_type": "stream",
     "text": [
      "The probaility of someone who is married to have no dept is 92.48%\n"
     ]
    }
   ],
   "source": [
    "probability_nodebt_married = 11449 / (11449 + 931)\n",
    "print('The probaility of someone who is married to have no dept is {:.2%}'.format(probability_nodebt_married))"
   ]
  },
  {
   "cell_type": "code",
   "execution_count": 235,
   "metadata": {},
   "outputs": [
    {
     "name": "stdout",
     "output_type": "stream",
     "text": [
      "The probaility of someone who is unmarried, to have no dept is 90.26%\n"
     ]
    }
   ],
   "source": [
    "probability_nodebt_unmarried = 2539 / (2539 + 274)\n",
    "print('The probaility of someone who is unmarried, to have no dept is {:.2%}'.format(probability_nodebt_unmarried))"
   ]
  },
  {
   "cell_type": "code",
   "execution_count": 236,
   "metadata": {},
   "outputs": [
    {
     "name": "stdout",
     "output_type": "stream",
     "text": [
      "The probaility of someone who is widow, to have no dept is 93.44%\n"
     ]
    }
   ],
   "source": [
    "probability_nodebt_widow = 897 / (897 + 63)\n",
    "print('The probaility of someone who is widow, to have no dept is {:.2%}'.format(probability_nodebt_widow))"
   ]
  },
  {
   "cell_type": "markdown",
   "metadata": {},
   "source": [
    "#### Conclusion"
   ]
  },
  {
   "cell_type": "markdown",
   "metadata": {},
   "source": [
    "The probaility of someone to has paid their loan varies across the different group of people when split by their marrital status, alhtough by not a huge amount.  The highest probability of having no debt is for widowed people (93.44%), while the lowest for  those who are unmarried people (90.26%)"
   ]
  },
  {
   "cell_type": "markdown",
   "metadata": {},
   "source": [
    "- Is there a relation between income level and repaying a loan on time?"
   ]
  },
  {
   "cell_type": "code",
   "execution_count": 237,
   "metadata": {},
   "outputs": [
    {
     "data": {
      "text/plain": [
       "income_category\n",
       "(0.0, 17219.5]        0.079605\n",
       "(17219.5, 22815.0]    0.088139\n",
       "(22815.0, 31331.0]    0.085382\n",
       "(31331.0, inf]        0.071415\n",
       "dtype: float64"
      ]
     },
     "execution_count": 237,
     "metadata": {},
     "output_type": "execute_result"
    }
   ],
   "source": [
    "#finding the mean values\n",
    "bank_nomissing.groupby('income_category').apply(lambda x: x[\"debt\"].mean())"
   ]
  },
  {
   "cell_type": "code",
   "execution_count": 238,
   "metadata": {},
   "outputs": [
    {
     "name": "stdout",
     "output_type": "stream",
     "text": [
      "                         debt\n",
      "income_category    debt      \n",
      "(0.0, 17219.5]     0     4937\n",
      "                   1      427\n",
      "(17219.5, 22815.0] 0     4997\n",
      "                   1      483\n",
      "(22815.0, 31331.0] 0     4799\n",
      "                   1      448\n",
      "(31331.0, inf]     0     4980\n",
      "                   1      383\n"
     ]
    }
   ],
   "source": [
    "#excatricting the data we need\n",
    "income_d = bank_nomissing.groupby(['income_category'])['debt']\n",
    "value_income = pd.DataFrame(income_d.value_counts())\n",
    "print(value_income)"
   ]
  },
  {
   "cell_type": "code",
   "execution_count": 239,
   "metadata": {},
   "outputs": [
    {
     "name": "stdout",
     "output_type": "stream",
     "text": [
      "The probaility of someone who is earning the lowest income, to have no dept is 92.04%\n"
     ]
    }
   ],
   "source": [
    "nodebt_low_income = 4937 / (4937 + 427)\n",
    "print('The probaility of someone who is earning the lowest income, to have no dept is {:.2%}'.format(nodebt_low_income))"
   ]
  },
  {
   "cell_type": "code",
   "execution_count": 240,
   "metadata": {},
   "outputs": [
    {
     "name": "stdout",
     "output_type": "stream",
     "text": [
      "The probaility of someone who earning lower than median, to have no dept is 91.27%\n"
     ]
    }
   ],
   "source": [
    "nodebt_medium_income = 4024 / (4024 + 385)\n",
    "print('The probaility of someone who earning lower than median, to have no dept is {:.2%}'.format(nodebt_medium_income))"
   ]
  },
  {
   "cell_type": "code",
   "execution_count": 241,
   "metadata": {},
   "outputs": [
    {
     "name": "stdout",
     "output_type": "stream",
     "text": [
      "The probaility of someone who is belongs to the high income category, to have no dept is 91.36%\n"
     ]
    }
   ],
   "source": [
    "nodebt_high_income = 5770 / (5770 + 546)\n",
    "print('The probaility of someone who is belongs to the high income category, to have no dept is {:.2%}'.format(nodebt_high_income))"
   ]
  },
  {
   "cell_type": "code",
   "execution_count": 242,
   "metadata": {},
   "outputs": [
    {
     "name": "stdout",
     "output_type": "stream",
     "text": [
      "The probaility of someone who is earning the highest income, to have no dept is 92.86%\n"
     ]
    }
   ],
   "source": [
    "nodebt_highest_income = 4982 / (4982 + 383)\n",
    "print('The probaility of someone who is earning the highest income, to have no dept is {:.2%}'.format(nodebt_highest_income))"
   ]
  },
  {
   "cell_type": "markdown",
   "metadata": {},
   "source": [
    "#### Conclusion"
   ]
  },
  {
   "cell_type": "markdown",
   "metadata": {},
   "source": [
    "People who earn the higest income, have also the largest probaility of having paid the loan (92.86%)"
   ]
  },
  {
   "cell_type": "markdown",
   "metadata": {},
   "source": [
    "- How do different loan purposes affect on-time repayment of the loan?"
   ]
  },
  {
   "cell_type": "code",
   "execution_count": 243,
   "metadata": {},
   "outputs": [
    {
     "data": {
      "text/plain": [
       "credit_type\n",
       "car          0.093590\n",
       "ceremony     0.080034\n",
       "education    0.092200\n",
       "house        0.072165\n",
       "other        0.073132\n",
       "dtype: float64"
      ]
     },
     "execution_count": 243,
     "metadata": {},
     "output_type": "execute_result"
    }
   ],
   "source": [
    "#calculatiing the means\n",
    "bank_nomissing.groupby('credit_type').apply(lambda x: x[\"debt\"].mean())"
   ]
  },
  {
   "cell_type": "code",
   "execution_count": 244,
   "metadata": {},
   "outputs": [
    {
     "name": "stdout",
     "output_type": "stream",
     "text": [
      "                  debt\n",
      "credit_type debt      \n",
      "car         0     3903\n",
      "            1      403\n",
      "ceremony    0     2138\n",
      "            1      186\n",
      "education   0     3643\n",
      "            1      370\n",
      "house       0     8280\n",
      "            1      644\n",
      "other       0     1749\n",
      "            1      138\n"
     ]
    }
   ],
   "source": [
    "#extracting only the data we need\n",
    "purpose_dic = bank_nomissing.groupby(['credit_type'])['debt']\n",
    "value_cou_purpose = pd.DataFrame(purpose_dic.value_counts())\n",
    "print(value_cou_purpose)"
   ]
  },
  {
   "cell_type": "code",
   "execution_count": 245,
   "metadata": {},
   "outputs": [
    {
     "name": "stdout",
     "output_type": "stream",
     "text": [
      "The probability of someone who is borrowing for car, to have no dept is 90.66%\n"
     ]
    }
   ],
   "source": [
    "car_purpose = 3912 / (3912 + 403)\n",
    "print('The probability of someone who is borrowing for car, to have no dept is {:.2%}'.format(car_purpose))"
   ]
  },
  {
   "cell_type": "code",
   "execution_count": 246,
   "metadata": {},
   "outputs": [
    {
     "name": "stdout",
     "output_type": "stream",
     "text": [
      "The probability of someone who is borrowing for ceremony, to have no dept is 92.08%\n"
     ]
    }
   ],
   "source": [
    "ceremony_purpose = 2162 / (2162 + 186)\n",
    "print('The probability of someone who is borrowing for ceremony, to have no dept is {:.2%}'.format(ceremony_purpose))"
   ]
  },
  {
   "cell_type": "code",
   "execution_count": 247,
   "metadata": {},
   "outputs": [
    {
     "name": "stdout",
     "output_type": "stream",
     "text": [
      "The probability of someone who is borrowing for housing, to have no dept is 90.80%\n"
     ]
    }
   ],
   "source": [
    "education_purpose = 3652 / (3652 + 370)\n",
    "print('The probability of someone who is borrowing for housing, to have no dept is {:.2%}'.format(education_purpose))"
   ]
  },
  {
   "cell_type": "code",
   "execution_count": 248,
   "metadata": {},
   "outputs": [
    {
     "name": "stdout",
     "output_type": "stream",
     "text": [
      "The probability of someone who is borrowing for housing, to have no dept is 92.81%\n"
     ]
    }
   ],
   "source": [
    "house_purpose = 8307 / (8307 + 644)\n",
    "print('The probability of someone who is borrowing for housing, to have no dept is {:.2%}'.format(house_purpose))"
   ]
  },
  {
   "cell_type": "code",
   "execution_count": 249,
   "metadata": {},
   "outputs": [
    {
     "name": "stdout",
     "output_type": "stream",
     "text": [
      "The probaility of someone who is borrowing for other purposes, to have no dept is 92.69%\n"
     ]
    }
   ],
   "source": [
    "other_purpose = 1751 / (1751 + 138)\n",
    "print('The probaility of someone who is borrowing for other purposes, to have no dept is {:.2%}'.format(other_purpose))"
   ]
  },
  {
   "cell_type": "markdown",
   "metadata": {},
   "source": [
    "#### Conclusion"
   ]
  },
  {
   "cell_type": "markdown",
   "metadata": {},
   "source": [
    "Those who borrow for house, ceremony or other purposes, have the lowest probability to have debt."
   ]
  },
  {
   "cell_type": "code",
   "execution_count": 250,
   "metadata": {},
   "outputs": [
    {
     "data": {
      "text/html": [
       "<div>\n",
       "<style scoped>\n",
       "    .dataframe tbody tr th:only-of-type {\n",
       "        vertical-align: middle;\n",
       "    }\n",
       "\n",
       "    .dataframe tbody tr th {\n",
       "        vertical-align: top;\n",
       "    }\n",
       "\n",
       "    .dataframe thead tr th {\n",
       "        text-align: left;\n",
       "    }\n",
       "\n",
       "    .dataframe thead tr:last-of-type th {\n",
       "        text-align: right;\n",
       "    }\n",
       "</style>\n",
       "<table border=\"1\" class=\"dataframe\">\n",
       "  <thead>\n",
       "    <tr>\n",
       "      <th></th>\n",
       "      <th></th>\n",
       "      <th></th>\n",
       "      <th colspan=\"4\" halign=\"left\">mean</th>\n",
       "    </tr>\n",
       "    <tr>\n",
       "      <th></th>\n",
       "      <th></th>\n",
       "      <th></th>\n",
       "      <th colspan=\"4\" halign=\"left\">debt</th>\n",
       "    </tr>\n",
       "    <tr>\n",
       "      <th></th>\n",
       "      <th></th>\n",
       "      <th>income_category</th>\n",
       "      <th>(0.0, 17219.5]</th>\n",
       "      <th>(17219.5, 22815.0]</th>\n",
       "      <th>(22815.0, 31331.0]</th>\n",
       "      <th>(31331.0, inf]</th>\n",
       "    </tr>\n",
       "    <tr>\n",
       "      <th>credit_type</th>\n",
       "      <th>having_children</th>\n",
       "      <th>family_status</th>\n",
       "      <th></th>\n",
       "      <th></th>\n",
       "      <th></th>\n",
       "      <th></th>\n",
       "    </tr>\n",
       "  </thead>\n",
       "  <tbody>\n",
       "    <tr>\n",
       "      <td rowspan=\"10\" valign=\"top\">car</td>\n",
       "      <td rowspan=\"5\" valign=\"top\">No</td>\n",
       "      <td>civil partnership</td>\n",
       "      <td>0.106667</td>\n",
       "      <td>0.112500</td>\n",
       "      <td>0.109091</td>\n",
       "      <td>0.069444</td>\n",
       "    </tr>\n",
       "    <tr>\n",
       "      <td>divorced</td>\n",
       "      <td>0.104167</td>\n",
       "      <td>0.072727</td>\n",
       "      <td>0.073171</td>\n",
       "      <td>0.019608</td>\n",
       "    </tr>\n",
       "    <tr>\n",
       "      <td>married</td>\n",
       "      <td>0.079208</td>\n",
       "      <td>0.059908</td>\n",
       "      <td>0.071960</td>\n",
       "      <td>0.078431</td>\n",
       "    </tr>\n",
       "    <tr>\n",
       "      <td>unmarried</td>\n",
       "      <td>0.109244</td>\n",
       "      <td>0.137255</td>\n",
       "      <td>0.114754</td>\n",
       "      <td>0.129032</td>\n",
       "    </tr>\n",
       "    <tr>\n",
       "      <td>widow / widower</td>\n",
       "      <td>0.080000</td>\n",
       "      <td>0.084746</td>\n",
       "      <td>0.162162</td>\n",
       "      <td>0.066667</td>\n",
       "    </tr>\n",
       "    <tr>\n",
       "      <td rowspan=\"5\" valign=\"top\">Yes</td>\n",
       "      <td>civil partnership</td>\n",
       "      <td>0.161290</td>\n",
       "      <td>0.095238</td>\n",
       "      <td>0.225000</td>\n",
       "      <td>0.128205</td>\n",
       "    </tr>\n",
       "    <tr>\n",
       "      <td>divorced</td>\n",
       "      <td>0.062500</td>\n",
       "      <td>0.038462</td>\n",
       "      <td>0.157895</td>\n",
       "      <td>0.120000</td>\n",
       "    </tr>\n",
       "    <tr>\n",
       "      <td>married</td>\n",
       "      <td>0.127572</td>\n",
       "      <td>0.102273</td>\n",
       "      <td>0.092937</td>\n",
       "      <td>0.086817</td>\n",
       "    </tr>\n",
       "    <tr>\n",
       "      <td>unmarried</td>\n",
       "      <td>0.000000</td>\n",
       "      <td>0.157895</td>\n",
       "      <td>0.344828</td>\n",
       "      <td>0.076923</td>\n",
       "    </tr>\n",
       "    <tr>\n",
       "      <td>widow / widower</td>\n",
       "      <td>0.000000</td>\n",
       "      <td>0.250000</td>\n",
       "      <td>0.000000</td>\n",
       "      <td>0.000000</td>\n",
       "    </tr>\n",
       "    <tr>\n",
       "      <td rowspan=\"2\" valign=\"top\">ceremony</td>\n",
       "      <td>No</td>\n",
       "      <td>civil partnership</td>\n",
       "      <td>0.066339</td>\n",
       "      <td>0.103896</td>\n",
       "      <td>0.068120</td>\n",
       "      <td>0.061995</td>\n",
       "    </tr>\n",
       "    <tr>\n",
       "      <td>Yes</td>\n",
       "      <td>civil partnership</td>\n",
       "      <td>0.138462</td>\n",
       "      <td>0.078431</td>\n",
       "      <td>0.115789</td>\n",
       "      <td>0.029268</td>\n",
       "    </tr>\n",
       "    <tr>\n",
       "      <td rowspan=\"10\" valign=\"top\">education</td>\n",
       "      <td rowspan=\"5\" valign=\"top\">No</td>\n",
       "      <td>civil partnership</td>\n",
       "      <td>0.135593</td>\n",
       "      <td>0.160000</td>\n",
       "      <td>0.142857</td>\n",
       "      <td>0.083333</td>\n",
       "    </tr>\n",
       "    <tr>\n",
       "      <td>divorced</td>\n",
       "      <td>0.065217</td>\n",
       "      <td>0.046512</td>\n",
       "      <td>0.102564</td>\n",
       "      <td>0.133333</td>\n",
       "    </tr>\n",
       "    <tr>\n",
       "      <td>married</td>\n",
       "      <td>0.071090</td>\n",
       "      <td>0.088384</td>\n",
       "      <td>0.080103</td>\n",
       "      <td>0.058355</td>\n",
       "    </tr>\n",
       "    <tr>\n",
       "      <td>unmarried</td>\n",
       "      <td>0.121739</td>\n",
       "      <td>0.130000</td>\n",
       "      <td>0.099174</td>\n",
       "      <td>0.099174</td>\n",
       "    </tr>\n",
       "    <tr>\n",
       "      <td>widow / widower</td>\n",
       "      <td>0.105263</td>\n",
       "      <td>0.019231</td>\n",
       "      <td>0.075000</td>\n",
       "      <td>0.074074</td>\n",
       "    </tr>\n",
       "    <tr>\n",
       "      <td rowspan=\"5\" valign=\"top\">Yes</td>\n",
       "      <td>civil partnership</td>\n",
       "      <td>0.136364</td>\n",
       "      <td>0.242424</td>\n",
       "      <td>0.193548</td>\n",
       "      <td>0.185185</td>\n",
       "    </tr>\n",
       "    <tr>\n",
       "      <td>divorced</td>\n",
       "      <td>0.136364</td>\n",
       "      <td>0.000000</td>\n",
       "      <td>0.000000</td>\n",
       "      <td>0.055556</td>\n",
       "    </tr>\n",
       "    <tr>\n",
       "      <td>married</td>\n",
       "      <td>0.084388</td>\n",
       "      <td>0.112782</td>\n",
       "      <td>0.100000</td>\n",
       "      <td>0.087500</td>\n",
       "    </tr>\n",
       "    <tr>\n",
       "      <td>unmarried</td>\n",
       "      <td>0.027778</td>\n",
       "      <td>0.187500</td>\n",
       "      <td>0.076923</td>\n",
       "      <td>0.076923</td>\n",
       "    </tr>\n",
       "    <tr>\n",
       "      <td>widow / widower</td>\n",
       "      <td>0.000000</td>\n",
       "      <td>0.375000</td>\n",
       "      <td>0.000000</td>\n",
       "      <td>0.000000</td>\n",
       "    </tr>\n",
       "    <tr>\n",
       "      <td rowspan=\"10\" valign=\"top\">house</td>\n",
       "      <td rowspan=\"5\" valign=\"top\">No</td>\n",
       "      <td>civil partnership</td>\n",
       "      <td>0.056000</td>\n",
       "      <td>0.081967</td>\n",
       "      <td>0.109589</td>\n",
       "      <td>0.054688</td>\n",
       "    </tr>\n",
       "    <tr>\n",
       "      <td>divorced</td>\n",
       "      <td>0.021978</td>\n",
       "      <td>0.142857</td>\n",
       "      <td>0.065934</td>\n",
       "      <td>0.066038</td>\n",
       "    </tr>\n",
       "    <tr>\n",
       "      <td>married</td>\n",
       "      <td>0.060175</td>\n",
       "      <td>0.073512</td>\n",
       "      <td>0.067857</td>\n",
       "      <td>0.067720</td>\n",
       "    </tr>\n",
       "    <tr>\n",
       "      <td>unmarried</td>\n",
       "      <td>0.073643</td>\n",
       "      <td>0.060498</td>\n",
       "      <td>0.094488</td>\n",
       "      <td>0.066914</td>\n",
       "    </tr>\n",
       "    <tr>\n",
       "      <td>widow / widower</td>\n",
       "      <td>0.023622</td>\n",
       "      <td>0.076271</td>\n",
       "      <td>0.064935</td>\n",
       "      <td>0.029412</td>\n",
       "    </tr>\n",
       "    <tr>\n",
       "      <td rowspan=\"5\" valign=\"top\">Yes</td>\n",
       "      <td>civil partnership</td>\n",
       "      <td>0.065574</td>\n",
       "      <td>0.137500</td>\n",
       "      <td>0.151515</td>\n",
       "      <td>0.116883</td>\n",
       "    </tr>\n",
       "    <tr>\n",
       "      <td>divorced</td>\n",
       "      <td>0.095238</td>\n",
       "      <td>0.085106</td>\n",
       "      <td>0.018868</td>\n",
       "      <td>0.042553</td>\n",
       "    </tr>\n",
       "    <tr>\n",
       "      <td>married</td>\n",
       "      <td>0.083012</td>\n",
       "      <td>0.078125</td>\n",
       "      <td>0.068421</td>\n",
       "      <td>0.063694</td>\n",
       "    </tr>\n",
       "    <tr>\n",
       "      <td>unmarried</td>\n",
       "      <td>0.109091</td>\n",
       "      <td>0.083333</td>\n",
       "      <td>0.161765</td>\n",
       "      <td>0.079365</td>\n",
       "    </tr>\n",
       "    <tr>\n",
       "      <td>widow / widower</td>\n",
       "      <td>0.000000</td>\n",
       "      <td>0.000000</td>\n",
       "      <td>0.150000</td>\n",
       "      <td>0.157895</td>\n",
       "    </tr>\n",
       "    <tr>\n",
       "      <td rowspan=\"10\" valign=\"top\">other</td>\n",
       "      <td rowspan=\"5\" valign=\"top\">No</td>\n",
       "      <td>civil partnership</td>\n",
       "      <td>0.111111</td>\n",
       "      <td>0.156250</td>\n",
       "      <td>0.030303</td>\n",
       "      <td>0.055556</td>\n",
       "    </tr>\n",
       "    <tr>\n",
       "      <td>divorced</td>\n",
       "      <td>0.125000</td>\n",
       "      <td>0.083333</td>\n",
       "      <td>0.000000</td>\n",
       "      <td>0.000000</td>\n",
       "    </tr>\n",
       "    <tr>\n",
       "      <td>married</td>\n",
       "      <td>0.091892</td>\n",
       "      <td>0.048649</td>\n",
       "      <td>0.063158</td>\n",
       "      <td>0.033333</td>\n",
       "    </tr>\n",
       "    <tr>\n",
       "      <td>unmarried</td>\n",
       "      <td>0.041667</td>\n",
       "      <td>0.068966</td>\n",
       "      <td>0.070175</td>\n",
       "      <td>0.112903</td>\n",
       "    </tr>\n",
       "    <tr>\n",
       "      <td>widow / widower</td>\n",
       "      <td>0.000000</td>\n",
       "      <td>0.033333</td>\n",
       "      <td>0.000000</td>\n",
       "      <td>0.133333</td>\n",
       "    </tr>\n",
       "    <tr>\n",
       "      <td rowspan=\"5\" valign=\"top\">Yes</td>\n",
       "      <td>civil partnership</td>\n",
       "      <td>0.058824</td>\n",
       "      <td>0.083333</td>\n",
       "      <td>0.166667</td>\n",
       "      <td>0.133333</td>\n",
       "    </tr>\n",
       "    <tr>\n",
       "      <td>divorced</td>\n",
       "      <td>0.153846</td>\n",
       "      <td>0.111111</td>\n",
       "      <td>0.166667</td>\n",
       "      <td>0.076923</td>\n",
       "    </tr>\n",
       "    <tr>\n",
       "      <td>married</td>\n",
       "      <td>0.073171</td>\n",
       "      <td>0.115044</td>\n",
       "      <td>0.068182</td>\n",
       "      <td>0.081081</td>\n",
       "    </tr>\n",
       "    <tr>\n",
       "      <td>unmarried</td>\n",
       "      <td>0.222222</td>\n",
       "      <td>0.066667</td>\n",
       "      <td>0.000000</td>\n",
       "      <td>0.266667</td>\n",
       "    </tr>\n",
       "    <tr>\n",
       "      <td>widow / widower</td>\n",
       "      <td>0.000000</td>\n",
       "      <td>0.000000</td>\n",
       "      <td>0.000000</td>\n",
       "      <td>NaN</td>\n",
       "    </tr>\n",
       "  </tbody>\n",
       "</table>\n",
       "</div>"
      ],
      "text/plain": [
       "                                                        mean  \\\n",
       "                                                        debt   \n",
       "income_category                               (0.0, 17219.5]   \n",
       "credit_type having_children family_status                      \n",
       "car         No              civil partnership       0.106667   \n",
       "                            divorced                0.104167   \n",
       "                            married                 0.079208   \n",
       "                            unmarried               0.109244   \n",
       "                            widow / widower         0.080000   \n",
       "            Yes             civil partnership       0.161290   \n",
       "                            divorced                0.062500   \n",
       "                            married                 0.127572   \n",
       "                            unmarried               0.000000   \n",
       "                            widow / widower         0.000000   \n",
       "ceremony    No              civil partnership       0.066339   \n",
       "            Yes             civil partnership       0.138462   \n",
       "education   No              civil partnership       0.135593   \n",
       "                            divorced                0.065217   \n",
       "                            married                 0.071090   \n",
       "                            unmarried               0.121739   \n",
       "                            widow / widower         0.105263   \n",
       "            Yes             civil partnership       0.136364   \n",
       "                            divorced                0.136364   \n",
       "                            married                 0.084388   \n",
       "                            unmarried               0.027778   \n",
       "                            widow / widower         0.000000   \n",
       "house       No              civil partnership       0.056000   \n",
       "                            divorced                0.021978   \n",
       "                            married                 0.060175   \n",
       "                            unmarried               0.073643   \n",
       "                            widow / widower         0.023622   \n",
       "            Yes             civil partnership       0.065574   \n",
       "                            divorced                0.095238   \n",
       "                            married                 0.083012   \n",
       "                            unmarried               0.109091   \n",
       "                            widow / widower         0.000000   \n",
       "other       No              civil partnership       0.111111   \n",
       "                            divorced                0.125000   \n",
       "                            married                 0.091892   \n",
       "                            unmarried               0.041667   \n",
       "                            widow / widower         0.000000   \n",
       "            Yes             civil partnership       0.058824   \n",
       "                            divorced                0.153846   \n",
       "                            married                 0.073171   \n",
       "                            unmarried               0.222222   \n",
       "                            widow / widower         0.000000   \n",
       "\n",
       "                                                                  \\\n",
       "                                                                   \n",
       "income_category                               (17219.5, 22815.0]   \n",
       "credit_type having_children family_status                          \n",
       "car         No              civil partnership           0.112500   \n",
       "                            divorced                    0.072727   \n",
       "                            married                     0.059908   \n",
       "                            unmarried                   0.137255   \n",
       "                            widow / widower             0.084746   \n",
       "            Yes             civil partnership           0.095238   \n",
       "                            divorced                    0.038462   \n",
       "                            married                     0.102273   \n",
       "                            unmarried                   0.157895   \n",
       "                            widow / widower             0.250000   \n",
       "ceremony    No              civil partnership           0.103896   \n",
       "            Yes             civil partnership           0.078431   \n",
       "education   No              civil partnership           0.160000   \n",
       "                            divorced                    0.046512   \n",
       "                            married                     0.088384   \n",
       "                            unmarried                   0.130000   \n",
       "                            widow / widower             0.019231   \n",
       "            Yes             civil partnership           0.242424   \n",
       "                            divorced                    0.000000   \n",
       "                            married                     0.112782   \n",
       "                            unmarried                   0.187500   \n",
       "                            widow / widower             0.375000   \n",
       "house       No              civil partnership           0.081967   \n",
       "                            divorced                    0.142857   \n",
       "                            married                     0.073512   \n",
       "                            unmarried                   0.060498   \n",
       "                            widow / widower             0.076271   \n",
       "            Yes             civil partnership           0.137500   \n",
       "                            divorced                    0.085106   \n",
       "                            married                     0.078125   \n",
       "                            unmarried                   0.083333   \n",
       "                            widow / widower             0.000000   \n",
       "other       No              civil partnership           0.156250   \n",
       "                            divorced                    0.083333   \n",
       "                            married                     0.048649   \n",
       "                            unmarried                   0.068966   \n",
       "                            widow / widower             0.033333   \n",
       "            Yes             civil partnership           0.083333   \n",
       "                            divorced                    0.111111   \n",
       "                            married                     0.115044   \n",
       "                            unmarried                   0.066667   \n",
       "                            widow / widower             0.000000   \n",
       "\n",
       "                                                                  \\\n",
       "                                                                   \n",
       "income_category                               (22815.0, 31331.0]   \n",
       "credit_type having_children family_status                          \n",
       "car         No              civil partnership           0.109091   \n",
       "                            divorced                    0.073171   \n",
       "                            married                     0.071960   \n",
       "                            unmarried                   0.114754   \n",
       "                            widow / widower             0.162162   \n",
       "            Yes             civil partnership           0.225000   \n",
       "                            divorced                    0.157895   \n",
       "                            married                     0.092937   \n",
       "                            unmarried                   0.344828   \n",
       "                            widow / widower             0.000000   \n",
       "ceremony    No              civil partnership           0.068120   \n",
       "            Yes             civil partnership           0.115789   \n",
       "education   No              civil partnership           0.142857   \n",
       "                            divorced                    0.102564   \n",
       "                            married                     0.080103   \n",
       "                            unmarried                   0.099174   \n",
       "                            widow / widower             0.075000   \n",
       "            Yes             civil partnership           0.193548   \n",
       "                            divorced                    0.000000   \n",
       "                            married                     0.100000   \n",
       "                            unmarried                   0.076923   \n",
       "                            widow / widower             0.000000   \n",
       "house       No              civil partnership           0.109589   \n",
       "                            divorced                    0.065934   \n",
       "                            married                     0.067857   \n",
       "                            unmarried                   0.094488   \n",
       "                            widow / widower             0.064935   \n",
       "            Yes             civil partnership           0.151515   \n",
       "                            divorced                    0.018868   \n",
       "                            married                     0.068421   \n",
       "                            unmarried                   0.161765   \n",
       "                            widow / widower             0.150000   \n",
       "other       No              civil partnership           0.030303   \n",
       "                            divorced                    0.000000   \n",
       "                            married                     0.063158   \n",
       "                            unmarried                   0.070175   \n",
       "                            widow / widower             0.000000   \n",
       "            Yes             civil partnership           0.166667   \n",
       "                            divorced                    0.166667   \n",
       "                            married                     0.068182   \n",
       "                            unmarried                   0.000000   \n",
       "                            widow / widower             0.000000   \n",
       "\n",
       "                                                              \n",
       "                                                              \n",
       "income_category                               (31331.0, inf]  \n",
       "credit_type having_children family_status                     \n",
       "car         No              civil partnership       0.069444  \n",
       "                            divorced                0.019608  \n",
       "                            married                 0.078431  \n",
       "                            unmarried               0.129032  \n",
       "                            widow / widower         0.066667  \n",
       "            Yes             civil partnership       0.128205  \n",
       "                            divorced                0.120000  \n",
       "                            married                 0.086817  \n",
       "                            unmarried               0.076923  \n",
       "                            widow / widower         0.000000  \n",
       "ceremony    No              civil partnership       0.061995  \n",
       "            Yes             civil partnership       0.029268  \n",
       "education   No              civil partnership       0.083333  \n",
       "                            divorced                0.133333  \n",
       "                            married                 0.058355  \n",
       "                            unmarried               0.099174  \n",
       "                            widow / widower         0.074074  \n",
       "            Yes             civil partnership       0.185185  \n",
       "                            divorced                0.055556  \n",
       "                            married                 0.087500  \n",
       "                            unmarried               0.076923  \n",
       "                            widow / widower         0.000000  \n",
       "house       No              civil partnership       0.054688  \n",
       "                            divorced                0.066038  \n",
       "                            married                 0.067720  \n",
       "                            unmarried               0.066914  \n",
       "                            widow / widower         0.029412  \n",
       "            Yes             civil partnership       0.116883  \n",
       "                            divorced                0.042553  \n",
       "                            married                 0.063694  \n",
       "                            unmarried               0.079365  \n",
       "                            widow / widower         0.157895  \n",
       "other       No              civil partnership       0.055556  \n",
       "                            divorced                0.000000  \n",
       "                            married                 0.033333  \n",
       "                            unmarried               0.112903  \n",
       "                            widow / widower         0.133333  \n",
       "            Yes             civil partnership       0.133333  \n",
       "                            divorced                0.076923  \n",
       "                            married                 0.081081  \n",
       "                            unmarried               0.266667  \n",
       "                            widow / widower              NaN  "
      ]
     },
     "execution_count": 250,
     "metadata": {},
     "output_type": "execute_result"
    }
   ],
   "source": [
    "credit_scoring_pivot = pd.pivot_table(bank_nomissing, \n",
    "                                      index=[\"credit_type\", \"having_children\", 'family_status'], \n",
    "                                      columns=['income_category'], \n",
    "                                      values=[\"debt\"], aggfunc=[np.mean])\n",
    "credit_scoring_pivot"
   ]
  },
  {
   "cell_type": "markdown",
   "metadata": {},
   "source": [
    "### Step 4. General conclusion"
   ]
  },
  {
   "cell_type": "markdown",
   "metadata": {},
   "source": [
    "**Brief overview of the work done**: Using the skills learnt in the data pre-processing chapter, we completed the bank loan related project in order to find out if customer’s socio-economic characteristics have impact on the likelihood that a customer will pay on time their loan. In order to come to such conclusion, we first examined the dataset to identify any potential issues with the raw data. Some of the problems we encountered were odd/suspicious values, some missing values and some duplicate data. These problems with the raw data may have occured during recording the data. So we tried to correct the mistakes and to fill in the missing values. We also dealt with the categorical values using stemming, as there were some repetitve and not consistent data entires, which may have had impact on the accuracy of the analysis. After cleaning the data, they were ready to be grouped for the purpose of the later analysis. \n",
    "\n",
    "**Main findings**: The main analysis consisted od calculation of the probability of different cohorts of people to have paid the loan on time (or with other words to have no debt). The results from such analysis showed that customers who are the most likely to pay their loan are those with no children, widowed, those who have higher income, and clients that borrow for house, ceremony and other purposes. However these calculated differences were not very large, and we also need to take into account that this is some basic exploratory analysis only and that does not look at statistical significance of the differences between the probabilites.\n",
    "\n",
    "**Recommendations**: for future, it will be good that there are pre-defined sub-categories in the purpose column. This way the clients can select their answers from the given options, rather than typing random words, that lead to incosistent entries. Also, it would have been good if the person who records the data, uses the describe method to see for any odd values. Then they can check the original source and see whether there was an issue with how the data were transferred. Reccomendation for the Bank is that the categories who are most likely to pay their loan on time, are better clients and therefore the Bank should pay more attention to them, in order to attract and reatain them by for example offering better loan conditions. "
   ]
  }
 ],
 "metadata": {
  "kernelspec": {
   "display_name": "Python 3",
   "language": "python",
   "name": "python3"
  },
  "language_info": {
   "codemirror_mode": {
    "name": "ipython",
    "version": 3
   },
   "file_extension": ".py",
   "mimetype": "text/x-python",
   "name": "python",
   "nbconvert_exporter": "python",
   "pygments_lexer": "ipython3",
   "version": "3.7.8"
  },
  "toc": {
   "base_numbering": 1,
   "nav_menu": {},
   "number_sections": true,
   "sideBar": true,
   "skip_h1_title": false,
   "title_cell": "Table of Contents",
   "title_sidebar": "Contents",
   "toc_cell": false,
   "toc_position": {},
   "toc_section_display": true,
   "toc_window_display": false
  }
 },
 "nbformat": 4,
 "nbformat_minor": 2
}
